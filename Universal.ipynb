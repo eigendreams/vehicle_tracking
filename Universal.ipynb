{
 "cells": [
  {
   "cell_type": "code",
   "execution_count": 1,
   "metadata": {
    "collapsed": true
   },
   "outputs": [],
   "source": [
    "import numpy as np\n",
    "import cv2\n",
    "import matplotlib.pyplot as plt\n",
    "import matplotlib.image as mpimg\n",
    "from skimage.feature import hog\n",
    "from skimage import color, exposure\n",
    "from sklearn.preprocessing import StandardScaler\n",
    "import glob\n",
    "import time\n",
    "from sklearn.svm import LinearSVC\n",
    "from sklearn.preprocessing import StandardScaler\n",
    "from sklearn.cross_validation import train_test_split"
   ]
  },
  {
   "cell_type": "code",
   "execution_count": 2,
   "metadata": {
    "collapsed": true
   },
   "outputs": [],
   "source": [
    "# Define all used color spaces\n",
    "def colorSpace(image, color):\n",
    "    \n",
    "    if color == 'rgb_r':\n",
    "        return image[:,:,0]\n",
    "    if color == 'rgb_g':\n",
    "        return image[:,:,1]\n",
    "    if color == 'rgb_b':\n",
    "        return image[:,:,2]\n",
    "    \n",
    "    if color == 'hls_h':\n",
    "        hls = cv2.cvtColor(image, cv2.COLOR_RGB2HLS)\n",
    "        return hls[:,:,0]\n",
    "    if color == 'hls_l':\n",
    "        hls = cv2.cvtColor(image, cv2.COLOR_RGB2HLS)\n",
    "        return hls[:,:,1]\n",
    "    if color == 'hls_s':\n",
    "        hls = cv2.cvtColor(image, cv2.COLOR_RGB2HLS)\n",
    "        return hls[:,:,2]\n",
    "    \n",
    "    if color == 'yuv_y':\n",
    "        yuv = cv2.cvtColor(image, cv2.COLOR_RGB2YUV)\n",
    "        return yuv[:,:,0]\n",
    "    if color == 'yuv_u':\n",
    "        yuv = cv2.cvtColor(image, cv2.COLOR_RGB2YUV)\n",
    "        return yuv[:,:,1]\n",
    "    if color == 'yuv_v':\n",
    "        yuv = cv2.cvtColor(image, cv2.COLOR_RGB2YUV)\n",
    "        return yuv[:,:,2]\n",
    "    \n",
    "    if color == 'lab_l':\n",
    "        lab = cv2.cvtColor(image, cv2.COLOR_RGB2Lab)\n",
    "        return lab[:,:,0]\n",
    "    if color == 'lab_a':\n",
    "        lab = cv2.cvtColor(image, cv2.COLOR_RGB2Lab)\n",
    "        return lab[:,:,1]\n",
    "    if color == 'lab_b':\n",
    "        lab = cv2.cvtColor(image, cv2.COLOR_RGB2Lab)\n",
    "        return lab[:,:,2]\n",
    "    \n",
    "    if color == 'gray':\n",
    "        return cv2.cvtColor(image, cv2.COLOR_RGB2GRAY)\n",
    "    \n",
    "    return None"
   ]
  },
  {
   "cell_type": "code",
   "execution_count": 3,
   "metadata": {
    "collapsed": true
   },
   "outputs": [],
   "source": [
    "def normalizeLayer(layer):\n",
    "    \n",
    "    # could be needed\n",
    "    #layer = np.array(layer, dtype=np.float32)\n",
    "    \n",
    "    x_min = (layer.min())\n",
    "    x_max = (layer.max())\n",
    "    \n",
    "    # ensure we have 0 bias!\n",
    "    a     = -0.5\n",
    "    b     =  0.5\n",
    "    \n",
    "    # type should be f32 from start!\n",
    "    return ( a + ( b - a ) * np.divide( ( layer - x_min ),  ( x_max - x_min ) ) )"
   ]
  },
  {
   "cell_type": "code",
   "execution_count": 4,
   "metadata": {
    "collapsed": true
   },
   "outputs": [],
   "source": [
    "# hog fetures are allright, BUT then we need to normalize to 0 as keras would\n",
    "# prefer that. It is also convenient to do this PER layer, as in batch \n",
    "# normalization too. Should work with images too!\n",
    "def normalizeVolume(volume):\n",
    "    \n",
    "    # could be needed\n",
    "    #volume = np.array(volume, dtype=np.float32)\n",
    "    \n",
    "    # get dimensions, I asssume last dimension depicts layers/bins\n",
    "    bins = volume.shape[-1]\n",
    "    \n",
    "    # normalize and unbias each layer\n",
    "    for bin in range(bins):\n",
    "        layer = volume[:, :, bin]\n",
    "        volume[:, :, bin] = normalizeLayer(layer)\n",
    "        \n",
    "    return volumeData"
   ]
  },
  {
   "cell_type": "code",
   "execution_count": 5,
   "metadata": {
    "collapsed": true
   },
   "outputs": [],
   "source": [
    "def zeroOneRange(img):\n",
    "    \n",
    "    maxVal = img.max()\n",
    "    \n",
    "    if maxVal > 1.00001:\n",
    "        # promote to float32\n",
    "        img = np.asarray(img, dtype=np.float32)\n",
    "        # We assume range is 0 to 255\n",
    "        img = np.divide(img, 255.0)\n",
    "        \n",
    "    return img"
   ]
  },
  {
   "cell_type": "code",
   "execution_count": 6,
   "metadata": {
    "collapsed": true
   },
   "outputs": [],
   "source": [
    "# it seems that hog works best on the Y channel, this makes sense according\n",
    "# o some object recognition papers as well\n",
    "# this replaces hog features\n",
    "def hogFeatures(img, \n",
    "                color='yuv_y',\n",
    "                orient=9, \n",
    "                pix_per_cell=8,\n",
    "                norm=False,\n",
    "                chkrange=True):\n",
    "    \n",
    "    if chkrange:\n",
    "        # check range, should fix type\n",
    "        img = zeroOneRange(img)\n",
    "    \n",
    "    # Apply image color space transform\n",
    "    img = colorSpace(img, color)\n",
    "    \n",
    "    # Obtain hog feaures of image, cells per block of 2x2 was\n",
    "    # selected as it is the simplest max pool layout, we will feed\n",
    "    # the features to a conv branch of a DNN, so we have to make a\n",
    "    \n",
    "    # few careful considerations (sizes, pooling, 'alignment'),\n",
    "    # normalization, color space, etc...\n",
    "    features = hog(img, \n",
    "                   orientations=orient, \n",
    "                   pixels_per_cell=(pix_per_cell, pix_per_cell),\n",
    "                   cells_per_block=(2, 2), \n",
    "                   transform_sqrt=True, \n",
    "                   visualise=False, \n",
    "                   feature_vector=False)\n",
    "    \n",
    "    # Now, the issue is that the blocks kind of repeat cells, so we might want\n",
    "    # to use a maxpool to 'equalize' the image, a way to do this would be to\n",
    "    # 'unroll' the cells in blocks, and apply a maxpool 2x2, however, we only\n",
    "    # want the pooling window to act over the 'intersections' of this reshape,\n",
    "    # it will need to be a custom reshape since we change the mem layout, and\n",
    "    # we want to add a 0 value exterior to allow this to be easily handled by \n",
    "    # the keras maxpool layer instead of doing it myself. This all reflects,\n",
    "    # quite expressively, the close relation between hog and the first layer of \n",
    "    # a conv. neural network, maybe ven more if we allow hog to consider higher\n",
    "    # order derivatives, and the maxpool application, and so on. \n",
    "    \n",
    "    # features right now must have shape\n",
    "    # (nx, ny, cx, cy, bin), and since cx=0,1, cy=0,1, we want a reshape as\n",
    "    # (nx*2, ny*2, 1, 1, bin), but since we want a border (like keras 'valid')\n",
    "    # (nx*2 + 2, ny*2 + 2, 1, 1, bin)\n",
    "    # since we change mem layout, we cannot use reshape, so lets do it!\n",
    "    nx   = features.shape[0]\n",
    "    ny   = features.shape[1]\n",
    "    cx   = 2 # assume constant non param\n",
    "    cy   = 2 # assume constant non param\n",
    "    bins = features.shape[4]\n",
    "    \n",
    "    # I have thought about other dimensions thant 2, but then I would need to\n",
    "    # 'interleave' the cells into bins, and it would be harder, moreso if the\n",
    "    # size is odd and so on... basically, looking for repetitions in the \n",
    "    # matrix and appending them one by one on the matrix and so on, possible\n",
    "    # but harder...\n",
    "    \n",
    "    nxp = 2 * nx + 2\n",
    "    nyp = 2 * ny + 2\n",
    "    \n",
    "    final_length = nxp * nyp * bins\n",
    "    linear = np.zeros((final_length), dtype=np.float32)\n",
    "    matrix = linear.reshape((nxp, nyp, bins))\n",
    "    \n",
    "    # populate the matrix with the 'flattened' hog features\n",
    "    for nxidx in range(nx):\n",
    "        for nyidy in range(ny):\n",
    "            # we are at nxidx, nyidy block\n",
    "            # this hast cx=2, cy=2 dimensions over cells\n",
    "            # and each cell has bins dim\n",
    "            # so get this subelement!\n",
    "            submatrix = features[nxidx, nyidy, :, :, :]\n",
    "            # prune spurious dims, maybe not needed though\n",
    "            submatrix = submatrix.reshape((2, 2, bins))\n",
    "            # assign to greater matrix, consider that we have a \n",
    "            # 1 element offset, also that cell dim is constant and two\n",
    "            matrix[(1 + 2 * nxidx):(3 + 2 * nxidx),\n",
    "                   (1 + 2 * nyidy):(3 + 2 * nyidy),\n",
    "                   :] = submatrix\n",
    "            \n",
    "    if norm:\n",
    "        # and normalize per layer\n",
    "        matrix = normalizeVolume(matrix)\n",
    "    \n",
    "    return matrix"
   ]
  },
  {
   "cell_type": "code",
   "execution_count": 7,
   "metadata": {
    "collapsed": true
   },
   "outputs": [],
   "source": [
    "# I will need to create a generator as well, as needed by keras as there are\n",
    "# 15k images, we also need to feed the color histograms as a vector, and also\n",
    "# the original image, though with much reduced resolutions, as we care mostly\n",
    "# about color actually, so maybe we wont even need the color histogram? \n",
    "# I mean, we already have the shape information, so it should be possible too\n",
    "# this replaces bin spatial\n",
    "def colorFeatures(image, \n",
    "                      norm=False,\n",
    "                      chkrange=True):\n",
    "    \n",
    "    if chkrange:\n",
    "        # check range\n",
    "        image = zeroOneRange(image)\n",
    "    \n",
    "    # First obtain the color maps/transforms of the image, on spaces\n",
    "    # recommended by udacity, these are rgb and hsv, we want them in 8x8\n",
    "    # pixel format, so get each layer, and resize it, better to use\n",
    "    # INTER_AREA for this though\n",
    "    hsv = cv2.cvtColor(image, cv2.COLOR_RGB2HSV)\n",
    "    \n",
    "    # input form is rgb images, so this ought to work properly\n",
    "    rgb = image[:]\n",
    "    \n",
    "    # downsize our images, please note, size should mirror the one\n",
    "    # from hog features to avoid too many branches in network, even if we then\n",
    "    # prune information, I wonder if max is good in this case though, maybe...\n",
    "    # It could be ok to apply a first conv layer even here though, lets see\n",
    "    hsvm = np.zeros((16, 16, 3), dtype=np.float32)\n",
    "    rgbm = np.zeros((16, 16, 3), dtype=np.float32)\n",
    "    \n",
    "    hsvm[:,:,0] = cv2.resize( hsv[:,:,0], (16, 16), interpolation=cv2.INTER_AREA )  \n",
    "    hsvm[:,:,1] = cv2.resize( hsv[:,:,1], (16, 16), interpolation=cv2.INTER_AREA )  \n",
    "    hsvm[:,:,2] = cv2.resize( hsv[:,:,2], (16, 16), interpolation=cv2.INTER_AREA )  \n",
    "    \n",
    "    rgbm[:,:,0] = cv2.resize( rgb[:,:,0], (16, 16), interpolation=cv2.INTER_AREA )  \n",
    "    rgbm[:,:,1] = cv2.resize( rgb[:,:,1], (16, 16), interpolation=cv2.INTER_AREA )  \n",
    "    rgbm[:,:,2] = cv2.resize( rgb[:,:,2], (16, 16), interpolation=cv2.INTER_AREA ) \n",
    "    \n",
    "    if norm:\n",
    "        # normalize each layer as well\n",
    "        hsvm = normalizeVolume(hsvm)\n",
    "        rgbm = normalizeVolume(rgbm)\n",
    "    \n",
    "    # prepare are for join, we MUST use DSTACK for this    \n",
    "    return np.dstack((rgbm, hsvm))"
   ]
  },
  {
   "cell_type": "code",
   "execution_count": 8,
   "metadata": {
    "collapsed": true
   },
   "outputs": [],
   "source": [
    "# The other branch of the network will not deal with the image information locally, as hog\n",
    "# or bin spatial inherently are, but with the color histograms of the entire image to be\n",
    "# looked all at once, at this point we have (16*16*(9+6)) = 3840 points with local info, \n",
    "# histograms should give 32*3*2 (bins*channels*colorspaces) = 192 points, this seems...\n",
    "# ok...\n",
    "# please note that range is 0 to 1, as image range for pngs is 0 to 1\n",
    "def histFeatures( img,\n",
    "                  nbins=32,\n",
    "                  bins_range=(0,1),\n",
    "                  norm=False,\n",
    "                  chkrange=True):\n",
    "    \n",
    "    if chkrange:\n",
    "        # we could use hsv and rgb color spaces as well though, check range\n",
    "        img = zeroOneRange(img)\n",
    "    \n",
    "    # Compute the histogram of the color channels separately\n",
    "    channel1_hist = np.histogram(img[:,:,0], bins=nbins, range=bins_range)\n",
    "    channel2_hist = np.histogram(img[:,:,1], bins=nbins, range=bins_range)\n",
    "    channel3_hist = np.histogram(img[:,:,2], bins=nbins, range=bins_range)\n",
    "    \n",
    "    hsv = cv2.cvtColor(img, cv2.COLOR_RGB2HSV)\n",
    "    # And in HSV color space\n",
    "    channel4_hist = np.histogram(hsv[:,:,0], bins=nbins, range=bins_range)\n",
    "    channel5_hist = np.histogram(hsv[:,:,1], bins=nbins, range=bins_range)\n",
    "    channel6_hist = np.histogram(hsv[:,:,2], bins=nbins, range=bins_range)\n",
    "    \n",
    "    # We should narmalize them, per channel/layer\n",
    "    # Though, to be fair, these should be done at the batch level!\n",
    "    # or entire feature set\n",
    "    if norm:\n",
    "        channel1_hist[0] = normalizeLayer(channel1_hist[0])\n",
    "        channel2_hist[0] = normalizeLayer(channel2_hist[0])\n",
    "        channel3_hist[0] = normalizeLayer(channel3_hist[0])\n",
    "        channel4_hist[0] = normalizeLayer(channel4_hist[0])\n",
    "        channel5_hist[0] = normalizeLayer(channel5_hist[0])\n",
    "        channel6_hist[0] = normalizeLayer(channel6_hist[0])\n",
    "    # Concatenate the histograms into a single feature vector\n",
    "    hist_features = np.concatenate((channel1_hist[0], \n",
    "                                    channel2_hist[0], \n",
    "                                    channel3_hist[0],\n",
    "                                    channel4_hist[0], \n",
    "                                    channel5_hist[0], \n",
    "                                    channel6_hist[0]))\n",
    "    # Return the individual histograms, bin_centers and feature vector\n",
    "    return hist_features"
   ]
  },
  {
   "cell_type": "code",
   "execution_count": 9,
   "metadata": {
    "collapsed": true
   },
   "outputs": [],
   "source": [
    "# create the generator for keras? Yoy know what, a CNN is not really a good\n",
    "# fit for this though, lets try a simple SVM, so, obtain a generator, but of\n",
    "# the features only\n",
    "# Divide up into cars and notcars, maybe later I will break and adapt this to a\n",
    "# CNN or something, but I do not have that much time unfortunately, as I would\n",
    "# need to experiment a LOT!\n",
    "def separator(pattern='imgs/*.png'):\n",
    "    \n",
    "    images  = glob.glob(pattern)\n",
    "    cars    = []\n",
    "    notcars = []\n",
    "    \n",
    "    for image in images:\n",
    "        if 'image' in image or 'extra' in image:\n",
    "            notcars.append(image)\n",
    "        else:\n",
    "            cars.append(image)\n",
    "            \n",
    "    return cars, notcars\n",
    "\n",
    "def extractor(files):\n",
    "    \n",
    "    allfeatures = []\n",
    "        \n",
    "    for file in files:\n",
    "        image = mpimg.imread(file)\n",
    "        \n",
    "        hogf = hogFeatures(image)\n",
    "        clrf = colorFeatures(image)\n",
    "        hstf = histFeatures(image)\n",
    "        \n",
    "        features = np.concatenate((np.ndarray.flatten(hogf), \n",
    "                                   np.ndarray.flatten(clrf),\n",
    "                                   np.ndarray.flatten(hstf)))\n",
    "        \n",
    "        allfeatures.append(features)\n",
    "        \n",
    "    return allfeatures\n",
    "\n",
    "def generator(pattern='imgs/*.png'):\n",
    "    \n",
    "    cars, notcars = separator(pattern)\n",
    "            \n",
    "    car_features = extractor(cars)\n",
    "    notcar_features = extractor(notcars)\n",
    "        \n",
    "    # Create an array stack of feature vectors\n",
    "    X = np.vstack((car_features, notcar_features)).astype(np.float32)                        \n",
    "    # Fit a per-column scaler\n",
    "    X_scaler = StandardScaler().fit(X)\n",
    "    # Apply the scaler to X\n",
    "    scaled_X = X_scaler.transform(X)\n",
    "    # Define the labels vector\n",
    "    y = np.hstack((np.ones(len(car_features)), np.zeros(len(notcar_features))))\n",
    "\n",
    "    return scaled_X, y, X_scaler"
   ]
  },
  {
   "cell_type": "code",
   "execution_count": 10,
   "metadata": {
    "collapsed": false
   },
   "outputs": [],
   "source": [
    "x,y,scaler = generator()"
   ]
  },
  {
   "cell_type": "code",
   "execution_count": 11,
   "metadata": {
    "collapsed": true
   },
   "outputs": [],
   "source": [
    "def SVCwrapper(x, y):\n",
    "    \n",
    "    # Split up data into randomized training and test sets\n",
    "    rand_state = np.random.randint(0, 100)\n",
    "    X_train, X_test, y_train, y_test = train_test_split(x, \n",
    "                                                        y, \n",
    "                                                        test_size=0.2, \n",
    "                                                        random_state=rand_state)\n",
    "\n",
    "    # Use a linear SVC \n",
    "    svc = LinearSVC()\n",
    "    # Check the training time for the SVC\n",
    "    t=time.time()\n",
    "    svc.fit(X_train, y_train)\n",
    "    t2 = time.time()\n",
    "    print(t2-t, 'Seconds to train SVC...')\n",
    "    # Check the score of the SVC\n",
    "    print('Train Accuracy of SVC = ', svc.score(X_train, y_train))\n",
    "    print('Test Accuracy of SVC = ', svc.score(X_test, y_test))\n",
    "    # Check the prediction time for a single sample\n",
    "    t=time.time()\n",
    "    prediction = svc.predict(X_test[0].reshape(1, -1))\n",
    "    t2 = time.time()\n",
    "    print(t2-t, 'Seconds to predict with SVC')\n",
    "    print(prediction)\n",
    "    \n",
    "    return svc"
   ]
  },
  {
   "cell_type": "code",
   "execution_count": 12,
   "metadata": {
    "collapsed": false
   },
   "outputs": [
    {
     "name": "stdout",
     "output_type": "stream",
     "text": [
      "6.121350049972534 Seconds to train SVC...\n",
      "Train Accuracy of SVC =  1.0\n",
      "Test Accuracy of SVC =  0.998720818676\n",
      "0.0 Seconds to predict with SVC\n",
      "[ 0.]\n"
     ]
    }
   ],
   "source": [
    "# 99.87! I will not beat that with a NN!\n",
    "# Just 4 examples were missclassed, ALL\n",
    "# within a very short distance from 0\n",
    "svc = SVCwrapper(x,y)"
   ]
  },
  {
   "cell_type": "code",
   "execution_count": 13,
   "metadata": {
    "collapsed": true
   },
   "outputs": [],
   "source": [
    "def fitExplorer(x, y, svc):\n",
    "    \n",
    "    plt.plot(y, 'x')\n",
    "    plt.show()\n",
    "    \n",
    "    predictions = svc.predict(x)\n",
    "    distances   = svc.decision_function(x)\n",
    "    plt.plot(distances, '.')\n",
    "    plt.show()\n",
    "    \n",
    "    sortedf = (np.sort(distances))\n",
    "    inner   = sortedf[(sortedf >= -0.2) & (sortedf <= 0.2)]\n",
    "    plt.plot(inner, 'o')\n",
    "    plt.show()\n",
    "\n",
    "    problem_idx_prednoncar = distances[(predictions < 0.1) & (y > 0.9)]\n",
    "    plt.plot(problem_idx_prednoncar, 'o')\n",
    "    plt.show()\n",
    "\n",
    "    problem_idx_predcar = distances[(predictions > 0.9) & (y < 0.1)]\n",
    "    plt.plot(problem_idx_predcar, 'o')\n",
    "    plt.show()"
   ]
  },
  {
   "cell_type": "code",
   "execution_count": 14,
   "metadata": {
    "collapsed": false
   },
   "outputs": [
    {
     "data": {
      "image/png": "[encoded data removed]",
      "text/plain": [
       "<matplotlib.figure.Figure at 0xacc39e8>"
      ]
     },
     "metadata": {},
     "output_type": "display_data"
    },
    {
     "data": {
      "image/png": "[encoded data removed]",
      "text/plain": [
       "<matplotlib.figure.Figure at 0x18e4ae48>"
      ]
     },
     "metadata": {},
     "output_type": "display_data"
    },
    {
     "data": {
      "image/png": "[encoded data removed]",
      "text/plain": [
       "<matplotlib.figure.Figure at 0xadc07f0>"
      ]
     },
     "metadata": {},
     "output_type": "display_data"
    },
    {
     "data": {
      "image/png": "[encoded data removed]",
      "text/plain": [
       "<matplotlib.figure.Figure at 0xad0b780>"
      ]
     },
     "metadata": {},
     "output_type": "display_data"
    },
    {
     "data": {
      "image/png": "[encoded data removed]",
      "text/plain": [
       "<matplotlib.figure.Figure at 0xad9a668>"
      ]
     },
     "metadata": {},
     "output_type": "display_data"
    }
   ],
   "source": [
    "fitExplorer(x, y, svc)"
   ]
  },
  {
   "cell_type": "code",
   "execution_count": 63,
   "metadata": {
    "collapsed": false
   },
   "outputs": [],
   "source": [
    "def thresholdedEvaluator(img,\n",
    "                         svc, \n",
    "                         scaler,\n",
    "                         threshold = 0.2):\n",
    "    # We want to apply a threshold for identification of cars, as shown in\n",
    "    # the explored data above, we really want to do this to predict a car, \n",
    "    # as dealing with hard negatives is hard\n",
    "    # 0.2 seems ok from data\n",
    "    img = cv2.resize(img, (64, 64), interpolation=cv2.INTER_AREA)\n",
    "    # just in case we have conflicts with png, jpg, mpimg, cv2, etc\n",
    "    img = zeroOneRange(img)\n",
    "    # apply feature extractor\n",
    "    hogf = hogFeatures(img)\n",
    "    clrf = colorFeatures(img)\n",
    "    hstf = histFeatures(img)\n",
    "    features = np.concatenate((np.ndarray.flatten(hogf), \n",
    "                               np.ndarray.flatten(clrf),\n",
    "                               np.ndarray.flatten(hstf)))\n",
    "    # we need to apply the scaler found for svc\n",
    "    scaled_x = scaler.transform(features.reshape((1,-1)))\n",
    "        \n",
    "    distance = svc.decision_function(scaled_x)\n",
    "    if distance >= threshold:\n",
    "        return 1\n",
    "    else:\n",
    "        return 0"
   ]
  },
  {
   "cell_type": "code",
   "execution_count": 64,
   "metadata": {
    "collapsed": false
   },
   "outputs": [
    {
     "data": {
      "text/plain": [
       "1"
      ]
     },
     "execution_count": 64,
     "metadata": {},
     "output_type": "execute_result"
    }
   ],
   "source": [
    "image = mpimg.imread('cutout6.jpg')\n",
    "thresholdedEvaluator(image,\n",
    "                     svc,\n",
    "                     scaler)"
   ]
  },
  {
   "cell_type": "code",
   "execution_count": 67,
   "metadata": {
    "collapsed": false
   },
   "outputs": [],
   "source": [
    "def draw_boxes(img, \n",
    "               bboxes, \n",
    "               color=(0, 0, 255), \n",
    "               thick=6):\n",
    "    # Make a copy of the image\n",
    "    imcopy = np.copy(img)\n",
    "    # Iterate through the bounding boxes\n",
    "    for bbox in bboxes:\n",
    "        # Draw a rectangle given bbox coordinates\n",
    "        cv2.rectangle(imcopy, bbox[0], bbox[1], color, thick)\n",
    "    # Return the image copy with boxes drawn\n",
    "    return imcopy\n",
    "    \n",
    "# Adapt sliding window Udacity function to our needs\n",
    "# assume xy window is ALWAYS square\n",
    "def slide_window(img, \n",
    "                 window_list,\n",
    "                 x_start_stop=[None, None], \n",
    "                 y_center=None,\n",
    "                 xy_window=(64, 64), \n",
    "                 x_overlap=0.2):\n",
    "    # Compute the span of the region to be searched    \n",
    "    xspan = x_start_stop[1] - x_start_stop[0]\n",
    "    # Compute the number of pixels per step in x/y\n",
    "    nx_pix_per_step = np.int(xy_window[0]*(1 - x_overlap))\n",
    "    # Compute the number of windows in x/y\n",
    "    nx_windows = np.int(xspan/nx_pix_per_step) - 1\n",
    "    # Loop through finding x windows\n",
    "    for xs in range(nx_windows):\n",
    "        # Calculate window position\n",
    "        startx = xs*nx_pix_per_step + x_start_stop[0]\n",
    "        endx   = startx + xy_window[0]\n",
    "        # We will need to fix Y coordinates too, now there might be\n",
    "        # off by ones, but you know what, I do not care\n",
    "        starty = y_center - np.around(xy_window[1]/2)\n",
    "        endy   = y_center + np.around(xy_window[1]/2)\n",
    "        # Extract inner image with coordinates\n",
    "        window_image = img[starty:endy, startx:endx, :]\n",
    "        # extra args must come from outer context\n",
    "        #value = thresholdedEvaluator(window_image, svc, scaler)\n",
    "        # Append window position to list iff car is found\n",
    "        if 1:\n",
    "            window_list.append( ( (np.int(startx), np.int(starty)), (np.int(endx), np.int(endy)) ) )\n",
    "    # Return the list of windows\n",
    "    return len(window_list), window_list\n",
    "\n",
    "# apply sliding windows over all the image, with different\n",
    "# sizes and such depending on general position using helper func\n",
    "# by udacity, so it should work, maybe...\n",
    "def slideAll(img,\n",
    "             nlines = 20,\n",
    "             nvariations = 4,\n",
    "             pvariations = 0.25,\n",
    "             min_pixels = 32):\n",
    "    \n",
    "    # save all windows here\n",
    "    window_list = []\n",
    "    \n",
    "    # I will need to create sliding zones or something like that\n",
    "    # starx, endx, starty, endy\n",
    "    # parameters were carefully chosen, in such a way that a valid\n",
    "    # area is always generated, though box size might become to small\n",
    "    # so we chack for that\n",
    "    top_hportion = 0.333 #horizontal portion at top of vehicle lines\n",
    "    bot_hportion = 1     #horizontal portion at bottom of vehicles lines\n",
    "    top_vportion = 0     #vertical idem\n",
    "    bot_vportion = 0.333 #vertical idem\n",
    "    top_ydist    = 0.6   #proportion of image distance to top in image\n",
    "    bot_ydist    = 0.75  #proportion of image distance to top in image\n",
    "    \n",
    "    # This really should be done in a way that upper sections are 'denser'\n",
    "    # so we can do this with a linear scaling! nice actually\n",
    "    maximal_steps = nlines * (nlines + 1) / 2\n",
    "    # and arrange as a triangular sum of sorts\n",
    "    \n",
    "    # we want to cover from the bottom to the top line, as in a scan by\n",
    "    # scan fashion, and on each, imagine a vertical box, and its variations\n",
    "    # so we want to create the x_lengths, do so\n",
    "    x_image = img.shape[1]\n",
    "    y_image = img.shape[0]\n",
    "    y_span  = np.round( y_image * (bot_ydist - top_ydist) )\n",
    "    y_bot   = np.round( y_image * bot_ydist )\n",
    "    \n",
    "    # we will round on a case by case basis\n",
    "    y_fstep = np.true_divide( y_span, maximal_steps )\n",
    "    y_rtop  = y_bot - y_fstep * maximal_steps # just for consistency, wont use\n",
    "    \n",
    "    # linear scaled steps\n",
    "    iter_steps = [ nlines - x for x in range(nlines + 1) ]\n",
    "    iter_sums  = [ sum(iter_steps[0:x]) for x in range(nlines + 1) ]\n",
    "    \n",
    "    # implement guard for 'dilution' if too many slices\n",
    "    y_center_old = 0\n",
    "    for idx in range(nlines):\n",
    "        y_center_new = y_bot - np.round(iter_sums[idx] * y_fstep)\n",
    "        if (abs(y_center_new - y_center_old) <= 1):\n",
    "            # we calculated the same line +-1px, no point going on\n",
    "            break;\n",
    "        y_center_old = y_center_new\n",
    "        \n",
    "        # calculate the spans in X\n",
    "        hportion  = iter_sums[idx] * (bot_hportion - top_hportion) / maximal_steps\n",
    "        h_idxspan = bot_hportion - hportion\n",
    "        x_start   = 0.5 * x_image - 0.5 * h_idxspan * x_image\n",
    "        x_end     = 0.5 * x_image + 0.5 * h_idxspan * x_image\n",
    "        \n",
    "        vportion  = iter_sums[idx] * (bot_vportion - top_vportion) / maximal_steps\n",
    "        v_idxspan = bot_vportion - vportion\n",
    "        y_span    = v_idxspan * y_image\n",
    "        \n",
    "        # round stuff\n",
    "        x_start = np.round(x_start)\n",
    "        x_end   = np.round(x_end)\n",
    "        y_span  = np.round(y_span)\n",
    "        \n",
    "        if y_span < min_pixels:\n",
    "            # windows will be too small, no point going on\n",
    "            break;\n",
    "            \n",
    "        if abs(x_start - x_end) < min_pixels:\n",
    "            #idem\n",
    "            break;\n",
    "            \n",
    "        # However we will try with many variations over y_span, so\n",
    "        # also check those\n",
    "        varrange = range( variations, -variations - 1, -1 )\n",
    "        var_step = np.round( y_span * pvariations / nvariations )\n",
    "        for idy in varrange:\n",
    "            # maybe there could be checks here too?\n",
    "            local_yspan = y_span + idy * var_step\n",
    "            finds, window_list = slide_window(img, \n",
    "                                              window_list,\n",
    "                                              x_start_stop=[x_start, x_end], \n",
    "                                              y_center=y_center_new,\n",
    "                                              xy_window=(local_yspan, local_yspan), \n",
    "                                              x_overlap=0.2)\n",
    "                \n",
    "    return window_list"
   ]
  },
  {
   "cell_type": "code",
   "execution_count": 68,
   "metadata": {
    "collapsed": false
   },
   "outputs": [
    {
     "ename": "NameError",
     "evalue": "name 'variations' is not defined",
     "output_type": "error",
     "traceback": [
      "\u001b[0;31m---------------------------------------------------------------------------\u001b[0m",
      "\u001b[0;31mNameError\u001b[0m                                 Traceback (most recent call last)",
      "\u001b[0;32m<ipython-input-68-048b86885c78>\u001b[0m in \u001b[0;36m<module>\u001b[0;34m()\u001b[0m\n\u001b[1;32m      4\u001b[0m                          \u001b[0mnvariations\u001b[0m \u001b[1;33m=\u001b[0m \u001b[1;36m2\u001b[0m\u001b[1;33m,\u001b[0m\u001b[1;33m\u001b[0m\u001b[0m\n\u001b[1;32m      5\u001b[0m                          \u001b[0mpvariations\u001b[0m \u001b[1;33m=\u001b[0m \u001b[1;36m0.25\u001b[0m\u001b[1;33m,\u001b[0m\u001b[1;33m\u001b[0m\u001b[0m\n\u001b[0;32m----> 6\u001b[0;31m                          min_pixels = 32)\n\u001b[0m",
      "\u001b[0;32m<ipython-input-67-0a3887950913>\u001b[0m in \u001b[0;36mslideAll\u001b[0;34m(img, nlines, nvariations, pvariations, min_pixels)\u001b[0m\n\u001b[1;32m    124\u001b[0m         \u001b[1;31m# However we will try with many variations over y_span, so\u001b[0m\u001b[1;33m\u001b[0m\u001b[1;33m\u001b[0m\u001b[0m\n\u001b[1;32m    125\u001b[0m         \u001b[1;31m# also check those\u001b[0m\u001b[1;33m\u001b[0m\u001b[1;33m\u001b[0m\u001b[0m\n\u001b[0;32m--> 126\u001b[0;31m         \u001b[0mvarrange\u001b[0m \u001b[1;33m=\u001b[0m \u001b[0mrange\u001b[0m\u001b[1;33m(\u001b[0m \u001b[0mvariations\u001b[0m\u001b[1;33m,\u001b[0m \u001b[1;33m-\u001b[0m\u001b[0mvariations\u001b[0m \u001b[1;33m-\u001b[0m \u001b[1;36m1\u001b[0m\u001b[1;33m,\u001b[0m \u001b[1;33m-\u001b[0m\u001b[1;36m1\u001b[0m \u001b[1;33m)\u001b[0m\u001b[1;33m\u001b[0m\u001b[0m\n\u001b[0m\u001b[1;32m    127\u001b[0m         \u001b[0mvar_step\u001b[0m \u001b[1;33m=\u001b[0m \u001b[0mnp\u001b[0m\u001b[1;33m.\u001b[0m\u001b[0mround\u001b[0m\u001b[1;33m(\u001b[0m \u001b[0my_span\u001b[0m \u001b[1;33m*\u001b[0m \u001b[0mpvariations\u001b[0m \u001b[1;33m/\u001b[0m \u001b[0mnvariations\u001b[0m \u001b[1;33m)\u001b[0m\u001b[1;33m\u001b[0m\u001b[0m\n\u001b[1;32m    128\u001b[0m         \u001b[1;32mfor\u001b[0m \u001b[0midy\u001b[0m \u001b[1;32min\u001b[0m \u001b[0mvarrange\u001b[0m\u001b[1;33m:\u001b[0m\u001b[1;33m\u001b[0m\u001b[0m\n",
      "\u001b[0;31mNameError\u001b[0m: name 'variations' is not defined"
     ]
    }
   ],
   "source": [
    "img = mpimg.imread('test_images/test1.jpg')\n",
    "window_list = slideAll( img,\n",
    "                         nlines = 2,\n",
    "                         nvariations = 2,\n",
    "                         pvariations = 0.25,\n",
    "                         min_pixels = 32)"
   ]
  },
  {
   "cell_type": "code",
   "execution_count": null,
   "metadata": {
    "collapsed": false
   },
   "outputs": [],
   "source": [
    "window_img = draw_boxes(img, window_list, color=(0, 0, 255), thick=1)                    \n",
    "plt.imshow(window_img)\n",
    "plt.show()"
   ]
  },
  {
   "cell_type": "code",
   "execution_count": null,
   "metadata": {
    "collapsed": false
   },
   "outputs": [],
   "source": [
    "[1 for x in range(1)]"
   ]
  },
  {
   "cell_type": "code",
   "execution_count": null,
   "metadata": {
    "collapsed": false
   },
   "outputs": [],
   "source": [
    "a = [ 10 - x for x in range(11) ]\n",
    "b = [ sum(a[0:x]) for x in range(11) ]\n",
    "print(b)"
   ]
  },
  {
   "cell_type": "code",
   "execution_count": null,
   "metadata": {
    "collapsed": false
   },
   "outputs": [],
   "source": [
    "np.true_divide(1,2)"
   ]
  },
  {
   "cell_type": "code",
   "execution_count": null,
   "metadata": {
    "collapsed": false
   },
   "outputs": [],
   "source": [
    "20*21/2"
   ]
  },
  {
   "cell_type": "code",
   "execution_count": null,
   "metadata": {
    "collapsed": false
   },
   "outputs": [],
   "source": [
    "1/2"
   ]
  },
  {
   "cell_type": "code",
   "execution_count": null,
   "metadata": {
    "collapsed": false
   },
   "outputs": [],
   "source": [
    "range(-2,2)"
   ]
  },
  {
   "cell_type": "code",
   "execution_count": null,
   "metadata": {
    "collapsed": false
   },
   "outputs": [],
   "source": [
    "variations = 4\n",
    "varrange = range(variations,-variations -1, -1)\n",
    "print([x for x in varrange])"
   ]
  },
  {
   "cell_type": "code",
   "execution_count": null,
   "metadata": {
    "collapsed": false
   },
   "outputs": [],
   "source": [
    "32*0.25/6"
   ]
  },
  {
   "cell_type": "code",
   "execution_count": null,
   "metadata": {
    "collapsed": true
   },
   "outputs": [],
   "source": []
  }
 ],
 "metadata": {
  "anaconda-cloud": {},
  "kernelspec": {
   "display_name": "Python [default]",
   "language": "python",
   "name": "python3"
  },
  "language_info": {
   "codemirror_mode": {
    "name": "ipython",
    "version": 3
   },
   "file_extension": ".py",
   "mimetype": "text/x-python",
   "name": "python",
   "nbconvert_exporter": "python",
   "pygments_lexer": "ipython3",
   "version": "3.5.2"
  }
 },
 "nbformat": 4,
 "nbformat_minor": 1
}
